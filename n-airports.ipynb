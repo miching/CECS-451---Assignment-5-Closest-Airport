{
 "cells": [
  {
   "cell_type": "code",
   "execution_count": 10,
   "outputs": [
    {
     "name": "stdout",
     "output_type": "stream",
     "text": [
      "[(0.932785424692531, 0.7917163346707464), (0.06842056053632362, 0.19400259056154112), (0.3214489774419308, 0.3961558966411942)]\n",
      "[(-0.4107992845170244, -0.17153786306862506), (-3.3473725481480616, -2.07176130831315), (-0.9408847030694295, -0.629446514958417)]\n"
     ]
    },
    {
     "data": {
      "text/plain": "<module 'matplotlib.pyplot' from '/Users/michaelching/PycharmProjects/CECS 451/Assignment #5/venv/lib/python3.10/site-packages/matplotlib/pyplot.py'>"
     },
     "execution_count": 10,
     "metadata": {},
     "output_type": "execute_result"
    },
    {
     "data": {
      "text/plain": "<Figure size 640x480 with 1 Axes>",
      "image/png": "[encoded data removed]"
     },
     "metadata": {},
     "output_type": "display_data"
    }
   ],
   "source": [
    "import random\n",
    "import numpy as np\n",
    "\n",
    "num_city = 100\n",
    "num_air = 3\n",
    "num_center = 5\n",
    "sigma = 0.1\n",
    "cities = set()\n",
    "airports = []\n",
    "\n",
    "for i in range(num_center):\n",
    "    x = random.random()\n",
    "    y = random.random()\n",
    "    xc = np.random.normal(x, sigma, num_city//num_center)\n",
    "    yc = np.random.normal(y, sigma, num_city//num_center)\n",
    "    cities = cities.union(zip(xc, yc))\n",
    "\n",
    "\n",
    "for i in range(num_air):\n",
    "    x = random.random()\n",
    "    y = random.random()\n",
    "    airports.append((x,y))\n",
    "\n",
    "\n",
    "#print (cities)\n",
    "print (airports)\n",
    "\n",
    "#Implement gradient\n",
    "for i in range(num_air):\n",
    "\n",
    "    airportX = airports[i][0]\n",
    "    airportY = airports[i][1]\n",
    "\n",
    "    x = 0\n",
    "    y = 0\n",
    "\n",
    "    for city in cities:\n",
    "        x = x + (airportX - city[0])**2\n",
    "        y = y + (airportY - city[1])**2\n",
    "\n",
    "\n",
    "    x = airports[i][0] - (sigma * x)\n",
    "    y = airports[i][1] - (sigma * y)\n",
    "    airports[i] = (x,y)\n",
    "\n",
    "\n",
    "\n",
    "print (airports)\n",
    "\n",
    "import matplotlib.pyplot as plt\n",
    "\n",
    "zip_cities = zip(*cities)\n",
    "plt.scatter(*zip_cities, marker='+',color='b', label='Cities')\n",
    "zip_airs = zip(*airports)\n",
    "plt.scatter(*zip_airs, marker='*', color='r', s=100, label='Airports')\n",
    "plt.legend()\n",
    "plt"
   ],
   "metadata": {
    "collapsed": false
   }
  },
  {
   "cell_type": "code",
   "execution_count": null,
   "outputs": [],
   "source": [],
   "metadata": {
    "collapsed": false
   }
  }
 ],
 "metadata": {
  "kernelspec": {
   "display_name": "Python 3",
   "language": "python",
   "name": "python3"
  },
  "language_info": {
   "codemirror_mode": {
    "name": "ipython",
    "version": 3
   },
   "file_extension": ".py",
   "mimetype": "text/x-python",
   "name": "python",
   "nbconvert_exporter": "python",
   "pygments_lexer": "ipython3",
   "version": "3.7.9"
  }
 },
 "nbformat": 4,
 "nbformat_minor": 2
}
